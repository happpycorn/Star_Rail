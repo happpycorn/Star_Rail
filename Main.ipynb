{
 "cells": [
  {
   "cell_type": "markdown",
   "metadata": {},
   "source": [
    "Import"
   ]
  },
  {
   "cell_type": "code",
   "execution_count": 1,
   "metadata": {},
   "outputs": [],
   "source": [
    "import os\n",
    "import cv2\n",
    "import numpy as np\n",
    "from tqdm import tqdm"
   ]
  },
  {
   "cell_type": "markdown",
   "metadata": {},
   "source": [
    "Read File"
   ]
  },
  {
   "cell_type": "code",
   "execution_count": 4,
   "metadata": {},
   "outputs": [
    {
     "name": "stdout",
     "output_type": "stream",
     "text": [
      "Find 1200 File\n"
     ]
    }
   ],
   "source": [
    "image_folder = 'your folder'\n",
    "\n",
    "file_type = \".TIF\"\n",
    "\n",
    "save_folder = 'your folder'\n",
    "\n",
    "img_path = [os.path.join(image_folder, path) for path in os.listdir(image_folder) if path.endswith(file_type)]\n",
    "img_path.sort()\n",
    "img_path = img_path[1100:2300]\n",
    "\n",
    "if img_path:\n",
    "    print(f\"Find {len(img_path)} File\")\n",
    "else:\n",
    "    print(\"No Find File\")"
   ]
  },
  {
   "cell_type": "markdown",
   "metadata": {},
   "source": [
    "Normal Rail"
   ]
  },
  {
   "cell_type": "code",
   "execution_count": 5,
   "metadata": {},
   "outputs": [
    {
     "name": "stderr",
     "output_type": "stream",
     "text": [
      "100%|██████████| 1200/1200 [03:21<00:00,  5.95it/s]\n"
     ]
    },
    {
     "data": {
      "text/plain": [
       "True"
      ]
     },
     "execution_count": 5,
     "metadata": {},
     "output_type": "execute_result"
    }
   ],
   "source": [
    "sum = cv2.imread(img_path[0])\n",
    "\n",
    "for i in tqdm(img_path):\n",
    "    n_img = cv2.imread(i)\n",
    "    sum = np.maximum(n_img, sum)\n",
    "\n",
    "cv2.imwrite(os.path.join(save_folder, f'output{file_type}'),sum)"
   ]
  },
  {
   "cell_type": "markdown",
   "metadata": {},
   "source": [
    "Deflect Rail"
   ]
  },
  {
   "cell_type": "code",
   "execution_count": 6,
   "metadata": {},
   "outputs": [
    {
     "name": "stderr",
     "output_type": "stream",
     "text": [
      "100%|██████████| 1200/1200 [03:42<00:00,  5.38it/s]\n"
     ]
    },
    {
     "data": {
      "text/plain": [
       "True"
      ]
     },
     "execution_count": 6,
     "metadata": {},
     "output_type": "execute_result"
    }
   ],
   "source": [
    "scale = 1 - 2*(10**-3) # 縮放大小\n",
    "freq = 5 # 相隔幾張照片進行縮放\n",
    "\n",
    "sum = cv2.imread(img_path[0])\n",
    "height, width = sum.shape[:2]\n",
    "new_width = int(width * scale)\n",
    "new_height = int(height * scale)\n",
    "\n",
    "# 縮放偏移\n",
    "x_offset = 0 # X軸靠左\n",
    "y_offset = (height - new_height)//2 # Y軸置中\n",
    "\n",
    "def zoom_out_with_padding(img):\n",
    "\n",
    "    resized_img = cv2.resize(img, (new_width, new_height))\n",
    "    canvas = np.zeros((height, width, 3), dtype=np.uint8)\n",
    "    canvas[y_offset:y_offset+new_height, x_offset:x_offset+new_width] = resized_img\n",
    "    \n",
    "    return canvas\n",
    "\n",
    "count = 0\n",
    "\n",
    "for i in tqdm(img_path):\n",
    "    count += 1\n",
    "\n",
    "    if count % freq == 0:\n",
    "        sum = zoom_out_with_padding(sum)\n",
    "\n",
    "    n_img = cv2.imread(i)\n",
    "    sum = np.maximum(n_img, sum)\n",
    "\n",
    "cv2.imwrite(os.path.join(save_folder, f'output{file_type}'),sum)"
   ]
  },
  {
   "cell_type": "markdown",
   "metadata": {},
   "source": [
    "Another Deflect Rail"
   ]
  },
  {
   "cell_type": "code",
   "execution_count": 17,
   "metadata": {},
   "outputs": [
    {
     "name": "stderr",
     "output_type": "stream",
     "text": [
      "100%|██████████| 1200/1200 [04:00<00:00,  4.98it/s]\n"
     ]
    },
    {
     "data": {
      "text/plain": [
       "True"
      ]
     },
     "execution_count": 17,
     "metadata": {},
     "output_type": "execute_result"
    }
   ],
   "source": [
    "# 縮放偏移\n",
    "x_offset = 0.4 # 左側占比\n",
    "y_offset = 1 # 上方占比\n",
    "\n",
    "sum = cv2.imread(img_path[0])\n",
    "height, width = sum.shape[:2]\n",
    "sum = np.zeros((height, width, 3), dtype=np.uint8)\n",
    "\n",
    "count = len(img_path)\n",
    "\n",
    "for ind, picture in tqdm(enumerate(img_path), total=len(img_path)):\n",
    "\n",
    "    n_img = cv2.imread(picture)\n",
    "    new_height = max(1, (height * ind) // count)\n",
    "    new_width = max(1, (width * ind) // count)\n",
    "\n",
    "    resized_img = cv2.resize(n_img, (new_width, new_height))\n",
    "    \n",
    "    canvas = np.zeros((height, width, 3), dtype=np.uint8)\n",
    "\n",
    "    less_height = height - new_height\n",
    "    less_width = width - new_width\n",
    "    h_start = int(less_height * y_offset)\n",
    "    h_end =h_start + new_height\n",
    "    w_start = int(less_width * x_offset)\n",
    "    w_end = w_start + new_width\n",
    "\n",
    "    canvas[h_start:h_end, w_start:w_end] = resized_img\n",
    "    \n",
    "    sum = np.maximum(canvas, sum)\n",
    "\n",
    "cv2.imwrite(os.path.join(save_folder, f'output{file_type}'),sum)"
   ]
  },
  {
   "cell_type": "markdown",
   "metadata": {},
   "source": [
    "Make Video"
   ]
  },
  {
   "cell_type": "code",
   "execution_count": 7,
   "metadata": {},
   "outputs": [
    {
     "name": "stderr",
     "output_type": "stream",
     "text": [
      "100%|██████████| 1200/1200 [05:33<00:00,  3.60it/s]"
     ]
    },
    {
     "name": "stdout",
     "output_type": "stream",
     "text": [
      "影片已儲存\n"
     ]
    },
    {
     "name": "stderr",
     "output_type": "stream",
     "text": [
      "\n"
     ]
    }
   ],
   "source": [
    "fps = 30\n",
    "\n",
    "frame = cv2.imread(os.path.join(image_folder, img_path[0]))\n",
    "# frame = cv2.rotate(frame, cv2.ROTATE_90_COUNTERCLOCKWISE)\n",
    "height, width, layers = frame.shape\n",
    "\n",
    "fourcc = cv2.VideoWriter_fourcc(*'mp4v')  # 使用 mp4 編碼\n",
    "video = cv2.VideoWriter(os.path.join(save_folder, 'output_video.mp4'), fourcc, fps, (width, height))\n",
    "\n",
    "# 將每張圖片寫入影片\n",
    "for image in tqdm(img_path):\n",
    "    frame = cv2.imread(os.path.join(image_folder, image))\n",
    "    # frame = cv2.rotate(frame, cv2.ROTATE_90_COUNTERCLOCKWISE)\n",
    "    video.write(frame)\n",
    "\n",
    "# 釋放影片寫入器\n",
    "video.release()\n",
    "print(f\"影片已儲存\")"
   ]
  }
 ],
 "metadata": {
  "kernelspec": {
   "display_name": "Python 3",
   "language": "python",
   "name": "python3"
  },
  "language_info": {
   "codemirror_mode": {
    "name": "ipython",
    "version": 3
   },
   "file_extension": ".py",
   "mimetype": "text/x-python",
   "name": "python",
   "nbconvert_exporter": "python",
   "pygments_lexer": "ipython3",
   "version": "3.11.1"
  }
 },
 "nbformat": 4,
 "nbformat_minor": 2
}
